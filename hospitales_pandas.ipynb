{
 "cells": [
  {
   "cell_type": "code",
   "execution_count": 55,
   "metadata": {},
   "outputs": [],
   "source": [
    "import pandas as pd"
   ]
  },
  {
   "cell_type": "code",
   "execution_count": 60,
   "metadata": {},
   "outputs": [],
   "source": [
    "df_hospital = pd.read_csv(\"hospitales.csv\")\n",
    "\n",
    "coordenadas = [coord.replace(\"(\",\"\").replace(\")\",\"\").split()[-2:] for coord in df_hospital[\"WKT\"]]\n",
    "latitud = [lat[1] for lat in coordenadas]\n",
    "longitud = [lon[0] for lon in coordenadas]\n",
    "\n",
    "col_df = dict(latitude=latitud, longitude=longitud, name=df_hospital[\"DOM_GEO\"], label=df_hospital[\"NOM_MAP\"])\n",
    "\n",
    "df_hosp = pd.DataFrame(col_df)\n",
    "\n",
    "df_hosp.to_csv(\"hosp_pandas.csv\",index=False)"
   ]
  },
  {
   "cell_type": "code",
   "execution_count": 61,
   "metadata": {},
   "outputs": [
    {
     "data": {
      "text/html": [
       "<div>\n",
       "<style scoped>\n",
       "    .dataframe tbody tr th:only-of-type {\n",
       "        vertical-align: middle;\n",
       "    }\n",
       "\n",
       "    .dataframe tbody tr th {\n",
       "        vertical-align: top;\n",
       "    }\n",
       "\n",
       "    .dataframe thead th {\n",
       "        text-align: right;\n",
       "    }\n",
       "</style>\n",
       "<table border=\"1\" class=\"dataframe\">\n",
       "  <thead>\n",
       "    <tr style=\"text-align: right;\">\n",
       "      <th></th>\n",
       "      <th>latitude</th>\n",
       "      <th>longitude</th>\n",
       "      <th>name</th>\n",
       "      <th>label</th>\n",
       "    </tr>\n",
       "  </thead>\n",
       "  <tbody>\n",
       "    <tr>\n",
       "      <th>0</th>\n",
       "      <td>-34.6288473603881</td>\n",
       "      <td>-58.3775508488443</td>\n",
       "      <td>40 MONTES DE OCA, MANUEL AV.</td>\n",
       "      <td>HOSP. DE ELIZALDE</td>\n",
       "    </tr>\n",
       "    <tr>\n",
       "      <th>1</th>\n",
       "      <td>-34.5941919726393</td>\n",
       "      <td>-58.4120700769456</td>\n",
       "      <td>1330 GALLO</td>\n",
       "      <td>HOSP. GUTIERREZ</td>\n",
       "    </tr>\n",
       "    <tr>\n",
       "      <th>2</th>\n",
       "      <td>-34.5845283357505</td>\n",
       "      <td>-58.4027276547828</td>\n",
       "      <td>2529 SANCHEZ DE BUSTAMANTE</td>\n",
       "      <td>HOSP. ODONTOLOGICO CARRILLO</td>\n",
       "    </tr>\n",
       "    <tr>\n",
       "      <th>3</th>\n",
       "      <td>-34.6394041316484</td>\n",
       "      <td>-58.3851559118889</td>\n",
       "      <td>2570 BRANDSEN</td>\n",
       "      <td>HOSP. MOYANO</td>\n",
       "    </tr>\n",
       "    <tr>\n",
       "      <th>4</th>\n",
       "      <td>-34.6341535760002</td>\n",
       "      <td>-58.3913114406535</td>\n",
       "      <td>2061 CASEROS AV.</td>\n",
       "      <td>HOSP. UDAONDO</td>\n",
       "    </tr>\n",
       "  </tbody>\n",
       "</table>\n",
       "</div>"
      ],
      "text/plain": [
       "            latitude          longitude                          name  \\\n",
       "0  -34.6288473603881  -58.3775508488443  40 MONTES DE OCA, MANUEL AV.   \n",
       "1  -34.5941919726393  -58.4120700769456                    1330 GALLO   \n",
       "2  -34.5845283357505  -58.4027276547828    2529 SANCHEZ DE BUSTAMANTE   \n",
       "3  -34.6394041316484  -58.3851559118889                 2570 BRANDSEN   \n",
       "4  -34.6341535760002  -58.3913114406535              2061 CASEROS AV.   \n",
       "\n",
       "                         label  \n",
       "0            HOSP. DE ELIZALDE  \n",
       "1              HOSP. GUTIERREZ  \n",
       "2  HOSP. ODONTOLOGICO CARRILLO  \n",
       "3                 HOSP. MOYANO  \n",
       "4                HOSP. UDAONDO  "
      ]
     },
     "execution_count": 61,
     "metadata": {},
     "output_type": "execute_result"
    }
   ],
   "source": [
    "df_hosp.head()"
   ]
  }
 ],
 "metadata": {
  "kernelspec": {
   "display_name": "Python 3",
   "language": "python",
   "name": "python3"
  },
  "language_info": {
   "codemirror_mode": {
    "name": "ipython",
    "version": 3
   },
   "file_extension": ".py",
   "mimetype": "text/x-python",
   "name": "python",
   "nbconvert_exporter": "python",
   "pygments_lexer": "ipython3",
   "version": "3.11.5"
  }
 },
 "nbformat": 4,
 "nbformat_minor": 2
}
