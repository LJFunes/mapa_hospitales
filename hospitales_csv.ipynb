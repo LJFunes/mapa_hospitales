{
 "cells": [
  {
   "cell_type": "code",
   "execution_count": 1,
   "metadata": {},
   "outputs": [],
   "source": [
    "import csv"
   ]
  },
  {
   "cell_type": "code",
   "execution_count": 47,
   "metadata": {},
   "outputs": [],
   "source": [
    "tabla = csv.reader(open(\"hospitales.csv\"))\n",
    "\n",
    "salida = open(\"hosp_csv.csv\",\"w\",newline=\"\") # crea un archivo \"hosp_csv\" para escribir sobre el mismo (\"w\") - debe ir newline = \"\"\n",
    "\n",
    "hosp_tab = csv.writer(salida)\n",
    "hosp_tab.writerow(['latitude','longitude','name','label'])\n",
    "\n",
    "\n",
    "next(tabla)\n",
    "for linea in tabla:\n",
    "    coordenadas = linea[0][7:-1].split()\n",
    "    hosp_tab.writerow([coordenadas[1], coordenadas[0], linea[8], linea[3]])\n",
    "\n",
    "\n",
    "salida.close()\n"
   ]
  }
 ],
 "metadata": {
  "kernelspec": {
   "display_name": "Python 3",
   "language": "python",
   "name": "python3"
  },
  "language_info": {
   "codemirror_mode": {
    "name": "ipython",
    "version": 3
   },
   "file_extension": ".py",
   "mimetype": "text/x-python",
   "name": "python",
   "nbconvert_exporter": "python",
   "pygments_lexer": "ipython3",
   "version": "3.11.5"
  }
 },
 "nbformat": 4,
 "nbformat_minor": 2
}
